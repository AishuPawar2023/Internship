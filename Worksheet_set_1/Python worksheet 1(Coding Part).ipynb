{
 "cells": [
  {
   "cell_type": "code",
   "execution_count": 4,
   "id": "dfd4da76",
   "metadata": {},
   "outputs": [
    {
     "name": "stdout",
     "output_type": "stream",
     "text": [
      "Enter a number: 4\n",
      "The factorial of 4 is 24\n"
     ]
    }
   ],
   "source": [
    "#1.Write a python program to find the factorial of a number.\n",
    "num = int(input(\"Enter a number: \"))\n",
    "factorial = 1\n",
    "\n",
    "if num < 0:\n",
    "    print(\"Factorial is not defined for negative numbers\")\n",
    "elif num == 0:\n",
    "    print(\"The factorial of 0 is 1\")\n",
    "else:\n",
    "    for i in range(1, num + 1):\n",
    "        factorial *= i\n",
    "    print(f\"The factorial of {num} is {factorial}\")\n"
   ]
  },
  {
   "cell_type": "code",
   "execution_count": 12,
   "id": "98f22667",
   "metadata": {},
   "outputs": [
    {
     "name": "stdout",
     "output_type": "stream",
     "text": [
      "Enter a number: 17\n",
      "17 is a prime number\n"
     ]
    }
   ],
   "source": [
    "#2.Write a python program to find whether a number is prime or composite.\n",
    "num = int(input(\"Enter a number: \"))\n",
    "\n",
    "if num > 1:\n",
    "    is_prime = True\n",
    "    for i in range(2, int(num ** 0.5) + 1):\n",
    "        if num % i == 0:\n",
    "            is_prime = False\n",
    "            break\n",
    "\n",
    "    if is_prime:\n",
    "        print(f\"{num} is a prime number\")\n",
    "    else:\n",
    "        print(f\"{num} is a composite number\")\n",
    "else:\n",
    "    print(f\"{num} is neither prime nor composite\")\n"
   ]
  },
  {
   "cell_type": "code",
   "execution_count": 11,
   "id": "40a2bf42",
   "metadata": {},
   "outputs": [
    {
     "name": "stdout",
     "output_type": "stream",
     "text": [
      "Enter a string: radar\n",
      "The string is a palindrome.\n"
     ]
    }
   ],
   "source": [
    "#3.Write a python program to check whether a given string is palindrome or not.\n",
    "input_string = input(\"Enter a string: \")\n",
    "\n",
    "cleaned_string = input_string.replace(\" \", \"\").lower()\n",
    "\n",
    "if cleaned_string == cleaned_string[::-1]:\n",
    "    print(\"The string is a palindrome.\")\n",
    "else:\n",
    "    print(\"The string is not a palindrome.\")\n"
   ]
  },
  {
   "cell_type": "code",
   "execution_count": 15,
   "id": "6f834cd7",
   "metadata": {},
   "outputs": [
    {
     "name": "stdout",
     "output_type": "stream",
     "text": [
      "Enter the length of the first side: 20\n",
      "Enter the length of the second side: 30\n",
      "The length of the third side (hypotenuse) is: 36.05551275463989\n"
     ]
    }
   ],
   "source": [
    "#4.Write a Python program to get the third side of right-angled triangle from two given sides.\n",
    "side1 = float(input(\"Enter the length of the first side: \"))\n",
    "side2 = float(input(\"Enter the length of the second side: \"))\n",
    "\n",
    "hypotenuse = (side1**2 + side2**2)**0.5\n",
    "\n",
    "print(f\"The length of the third side (hypotenuse) is: {hypotenuse}\")\n"
   ]
  },
  {
   "cell_type": "code",
   "execution_count": 17,
   "id": "ae7af8e6",
   "metadata": {},
   "outputs": [
    {
     "name": "stdout",
     "output_type": "stream",
     "text": [
      "Enter a string: pooja\n",
      "'p' occurs 1 times\n",
      "'o' occurs 2 times\n",
      "'j' occurs 1 times\n",
      "'a' occurs 1 times\n"
     ]
    }
   ],
   "source": [
    "#5.Write a python program to print the frequency of each of the characters present in a given string.\n",
    "input_string = input(\"Enter a string: \")\n",
    "\n",
    "char_frequency = {}\n",
    "\n",
    "for char in input_string:\n",
    "    if char in char_frequency:\n",
    "        char_frequency[char] += 1\n",
    "    else:\n",
    "        char_frequency[char] = 1\n",
    "        \n",
    "for char, freq in char_frequency.items():\n",
    "    print(f\"'{char}' occurs {freq} times\")\n"
   ]
  },
  {
   "cell_type": "code",
   "execution_count": null,
   "id": "913086eb",
   "metadata": {},
   "outputs": [],
   "source": []
  }
 ],
 "metadata": {
  "kernelspec": {
   "display_name": "Python 3 (ipykernel)",
   "language": "python",
   "name": "python3"
  },
  "language_info": {
   "codemirror_mode": {
    "name": "ipython",
    "version": 3
   },
   "file_extension": ".py",
   "mimetype": "text/x-python",
   "name": "python",
   "nbconvert_exporter": "python",
   "pygments_lexer": "ipython3",
   "version": "3.9.13"
  }
 },
 "nbformat": 4,
 "nbformat_minor": 5
}
