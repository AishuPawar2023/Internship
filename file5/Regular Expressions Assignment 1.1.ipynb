{
 "cells": [
  {
   "cell_type": "code",
   "execution_count": 3,
   "id": "6ec93343",
   "metadata": {},
   "outputs": [
    {
     "name": "stdout",
     "output_type": "stream",
     "text": [
      "Python:Exercises::PHP:exercises:\n"
     ]
    }
   ],
   "source": [
    "#Question 1- Write a Python program to replace all occurrences of a space, comma, or dot with a colon.\n",
    "import pandas as pd\n",
    "import re\n",
    "str1='Python Exercises, PHP exercises.'\n",
    "pat='[ ,.]'\n",
    "replace=':'\n",
    "str2=re.sub(pat,replace,str1)\n",
    "print(str2)"
   ]
  },
  {
   "cell_type": "code",
   "execution_count": 7,
   "id": "f7bbaa8f",
   "metadata": {},
   "outputs": [
    {
     "name": "stdout",
     "output_type": "stream",
     "text": [
      "['and', 'eva', 'and', 'aishu']\n"
     ]
    }
   ],
   "source": [
    "#Question 2-  Write a Python program to find all words starting with 'a' or 'e' in a given string.\n",
    "string='He is boy and his name is eva and he has one sister her name is aishu'\n",
    "pat= r'\\b[ae]\\w*\\b'\n",
    "str1=re.findall(pat,string)\n",
    "print(str1)"
   ]
  },
  {
   "cell_type": "code",
   "execution_count": 55,
   "id": "213e7ad8",
   "metadata": {},
   "outputs": [
    {
     "name": "stdout",
     "output_type": "stream",
     "text": [
      "['Asha', 'Usha', 'Hema', 'three', 'sisters', 'they', 'have', 'brother']\n"
     ]
    }
   ],
   "source": [
    "'''\n",
    "Question 3- Create a function inpython to find all words that are at least 4 characters long in a string.The use of the \n",
    "re.compile() method is mandatory.\n",
    "'''\n",
    "string='Asha Usha and Hema are three sisters and they have one brother.'\n",
    "pattern = re.compile(r'\\b\\w{4,}\\b')\n",
    "str1=re.findall(pattern,string)\n",
    "print(str1)"
   ]
  },
  {
   "cell_type": "code",
   "execution_count": 86,
   "id": "23ba65ac",
   "metadata": {},
   "outputs": [
    {
     "name": "stdout",
     "output_type": "stream",
     "text": [
      "['Aish', 'and', 'color']\n"
     ]
    }
   ],
   "source": [
    "#Question 4- Create a function in python to find all three, four, and five character words in a string. \n",
    "#The use of the re.compile() method is mandatory.\n",
    "string='I am Aish and my favorite color is yellow'\n",
    "pattern = re.compile(r'\\b\\w{3,5}\\b')\n",
    "str1 = pattern.findall(string)\n",
    "print(str1)"
   ]
  },
  {
   "cell_type": "code",
   "execution_count": 59,
   "id": "fa14709c",
   "metadata": {},
   "outputs": [
    {
     "name": "stdout",
     "output_type": "stream",
     "text": [
      "example.com\n",
      "hr@fliprobo.com\n",
      "github.com\n",
      "HelloData Science World\n",
      "DataScientist\n"
     ]
    }
   ],
   "source": [
    "#Question 5- Create a function in Python to remove the parenthesis in a list of strings.The use of the re.compile() method is mandatory.\n",
    "#Sample Text:[\"example (.com)\", \"hr@fliprobo (.com)\", \"github (.com)\", \"Hello (Data Science World)\", \"Data (Scientist)\"]\n",
    "sample_text = [\"example (.com)\", \"hr@fliprobo (.com)\", \"github (.com)\", \"Hello (Data Science World)\", \"Data (Scientist)\"]\n",
    "pattern = re.compile(r'\\s*\\(\\s*|\\s*\\)')  \n",
    "result = [pattern.sub('', text) for text in sample_text]\n",
    "\n",
    "for item in result:\n",
    "    print(item)\n",
    "\n"
   ]
  },
  {
   "cell_type": "code",
   "execution_count": 55,
   "id": "37b88e59",
   "metadata": {},
   "outputs": [
    {
     "name": "stdout",
     "output_type": "stream",
     "text": [
      "[\"example \", \"hr@fliprobo \", \"github \", \"Hello \", \"Data \"]\n"
     ]
    }
   ],
   "source": [
    "#Question 6- Write a python program to remove the parenthesis area from the text stored in the text file using Regular Expression.\n",
    "#Sample Text:[\"example (.com)\", \"hr@fliprobo (.com)\", \"github (.com)\", \"Hello (Data Science World)\", \"Data (Scientist)\"]\n",
    "\n",
    "with open('demo.txt', 'r') as file:\n",
    "    text = file.read()\n",
    "\n",
    "pattern = re.compile(r'\\([^)]*\\)')\n",
    "cleaned_text = pattern.sub('', text)\n",
    "print(cleaned_text)\n"
   ]
  },
  {
   "cell_type": "code",
   "execution_count": 82,
   "id": "6e4ffdbc",
   "metadata": {},
   "outputs": [
    {
     "name": "stdout",
     "output_type": "stream",
     "text": [
      "['Importance', 'Of', 'Regular', 'Expressions', 'In', 'Python']\n"
     ]
    }
   ],
   "source": [
    "#Question 7-Write a regular expression in Python to split a string into uppercase letters.\n",
    "#Sample text: “ImportanceOfRegularExpressionsInPython”\n",
    "sample_text = \"ImportanceOfRegularExpressionsInPython\"\n",
    "result = re.split(r'([A-Z][a-z]*)', sample_text)\n",
    "result = [word for word in result if word]\n",
    "\n",
    "print(result)"
   ]
  },
  {
   "cell_type": "code",
   "execution_count": 87,
   "id": "6f63f108",
   "metadata": {},
   "outputs": [
    {
     "name": "stdout",
     "output_type": "stream",
     "text": [
      "RegularExpression1IsAn2ImportantTopic3InPython\n"
     ]
    }
   ],
   "source": [
    "#Question 8- Create a function in python to insert spaces between words starting with numbers.\n",
    "\n",
    "#Sample Text: “RegularExpression1IsAn2ImportantTopic3InPython\"\n",
    "sample_text = \"RegularExpression1IsAn2ImportantTopic3InPython\"\n",
    "result = re.sub(r'(?<=\\D)(?=\\d)', '', sample_text)\n",
    "print(result)\n",
    "\n",
    "\n"
   ]
  },
  {
   "cell_type": "code",
   "execution_count": 95,
   "id": "b11ced89",
   "metadata": {},
   "outputs": [
    {
     "name": "stdout",
     "output_type": "stream",
     "text": [
      "RegularExpression 1 IsAn 2 ImportantTopic 3 InPython\n"
     ]
    }
   ],
   "source": [
    "#uestion 9- Create a function in python to insert spaces between words starting with capital letters or with numbers.\n",
    "#Sample Text: “RegularExpression1IsAn2ImportantTopic3InPython\"\n",
    "sample_text = \"RegularExpression1IsAn2ImportantTopic3InPython\"\n",
    "result = re.sub(r'(?<=[a-zA-Z])(?=\\d)', ' ', sample_text)\n",
    "result = re.sub(r'(?<=\\d)(?=[A-Z])', ' ', output)\n",
    "print(result)"
   ]
  },
  {
   "cell_type": "code",
   "execution_count": 57,
   "id": "ebc48915",
   "metadata": {},
   "outputs": [
    {
     "name": "stdout",
     "output_type": "stream",
     "text": [
      "['xyz@domain.com', 'xyz.abc@sdomain.domain.com']\n",
      "['hr@fliprobo.com']\n"
     ]
    }
   ],
   "source": [
    "'''\n",
    "Question 10- Write a python program to extract email address from the text stored in the text file using Regular Expression.\n",
    "Sample Text- Hello my name is Data Science and my email address is xyz@domain.com and alternate email address is \n",
    "xyz.abc@sdomain.domain.com. Please contact us at hr@fliprobo.com for further information. \n",
    "'''\n",
    "import re\n",
    "with open('email.txt', 'r') as file:\n",
    "    text = file.read()\n",
    "\n",
    "    pattern = r'\\b[A-Za-z0-9._%+-]+@[A-Za-z0-9.-]+\\.[A-Z|a-z]{2,}\\b'\n",
    "\n",
    "emails = re.findall(pattern, text)\n",
    "email_lists = [emails[:2], emails[2:]]\n",
    "\n",
    "for email_list in email_lists:\n",
    "    print(email_list)\n"
   ]
  },
  {
   "cell_type": "code",
   "execution_count": 99,
   "id": "8bc91cc8",
   "metadata": {},
   "outputs": [
    {
     "name": "stdout",
     "output_type": "stream",
     "text": [
      "Valid\n"
     ]
    }
   ],
   "source": [
    "#Question 11- Write a Python program to match a string that contains only upper and lowercase letters, numbers, and underscores.\n",
    "sample_string = \"Hello_Aishwarya123\"\n",
    "pattern = r'^[a-zA-Z0-9_]+$'\n",
    "\n",
    "if re.match(pattern, sample_string):\n",
    "    print(\"Valid\")\n",
    "else:\n",
    "    print(\"Invalid\")\n"
   ]
  },
  {
   "cell_type": "code",
   "execution_count": 2,
   "id": "f22902e9",
   "metadata": {},
   "outputs": [
    {
     "name": "stdout",
     "output_type": "stream",
     "text": [
      "string starts with the specific number.\n"
     ]
    }
   ],
   "source": [
    "#Question 12- Write a Python program where a string will start with a specific number. \n",
    "# Pre-defined input string\n",
    "input_string = \"123aishwarya\"\n",
    "specific_number = \"123\"\n",
    "\n",
    "if input_string.startswith(specific_number):\n",
    "    print(\"string starts with the specific number.\")\n",
    "else:\n",
    "    print(\"strin does not start with the specific number.\")\n"
   ]
  },
  {
   "cell_type": "code",
   "execution_count": 10,
   "id": "e1e9a157",
   "metadata": {},
   "outputs": [
    {
     "name": "stdout",
     "output_type": "stream",
     "text": [
      "112.86.93.223\n"
     ]
    }
   ],
   "source": [
    "#Question 13- Write a Python program to remove leading zeros from an IP address\n",
    "ip_address = \"112.086.093.223\"\n",
    "string = re.sub('\\.[0]*', '.', ip_address)\n",
    "print(string)\n",
    "\n"
   ]
  },
  {
   "cell_type": "code",
   "execution_count": 64,
   "id": "b64a084b",
   "metadata": {},
   "outputs": [
    {
     "name": "stdout",
     "output_type": "stream",
     "text": [
      "August 15th 1947\n"
     ]
    }
   ],
   "source": [
    "'''\n",
    "Question 14- Write a regular expression in python to match a date string in the form of Month name followed by day number \n",
    "and year stored in a text file.\n",
    "Sample text : 'On August 15th 1947 that India was declared independent from British \n",
    "colonialism, and the reins of control were handed over to the leaders of the Country’.\n",
    "'''\n",
    "\n",
    "with open('date1.txt', 'r') as file:\n",
    "    text = file.read()\n",
    "pattern = r'\\b[A-Za-z]+ \\d{1,2}(?:st|nd|rd|th)? \\d{4}\\b'\n",
    "\n",
    "date_matches = re.findall(pattern, text)\n",
    "\n",
    "for date in date_matches:\n",
    "    print(date)\n"
   ]
  },
  {
   "cell_type": "code",
   "execution_count": 18,
   "id": "23a9daf9",
   "metadata": {},
   "outputs": [
    {
     "name": "stdout",
     "output_type": "stream",
     "text": [
      "Found words: ['fox', 'dog']\n"
     ]
    }
   ],
   "source": [
    "#Question 15- Write a Python program to search some literals strings in a string. \n",
    "#Sample text : 'The quick brown fox jumps over the lazy dog.'\n",
    "#Searched words : 'fox', 'dog', 'horse'\n",
    "sample_text = 'The quick brown fox jumps over the lazy dog.'\n",
    "searched_words = ['fox', 'dog', 'horse']\n",
    "found_words = [word for word in searched_words if word in sample_text]\n",
    "print(\"Found words:\", found_words)\n",
    "\n"
   ]
  },
  {
   "cell_type": "code",
   "execution_count": 19,
   "id": "6b2c61c4",
   "metadata": {},
   "outputs": [
    {
     "name": "stdout",
     "output_type": "stream",
     "text": [
      "Found word 'fox' at locations: [(16, 19)]\n"
     ]
    }
   ],
   "source": [
    "#Question 16- Write a Python program to search a literals string in a string and also find the location within the original \n",
    "#string where the pattern occurs\n",
    "#Sample text : 'The quick brown fox jumps over the lazy dog.'\n",
    "#Searched words : 'fox'\n",
    "sample_text = 'The quick brown fox jumps over the lazy dog.'\n",
    "searched_word = 'fox'\n",
    "\n",
    "pattern = re.compile(searched_word)\n",
    "found_locations = [(match.start(), match.end()) for match in pattern.finditer(sample_text)]\n",
    "\n",
    "print(f\"Found word '{searched_word}' at locations:\", found_locations)\n"
   ]
  },
  {
   "cell_type": "code",
   "execution_count": 74,
   "id": "5fe1f57b",
   "metadata": {},
   "outputs": [
    {
     "name": "stdout",
     "output_type": "stream",
     "text": [
      "Occurrences of 'exercises': 3\n"
     ]
    }
   ],
   "source": [
    "#Question 17- Write a Python program to find the substrings within a string.\n",
    "#Sample text : 'Python exercises, PHP exercises, C# exercises'\n",
    "#Pattern : 'exercises'.\n",
    "\n",
    "text = 'Python exercises, PHP exercises, C# exercises'\n",
    "pattern = 'exercises'\n",
    "occurrences = text.count(pattern)\n",
    "print(\"Occurrences of 'exercises':\", occurrences)\n",
    "\n"
   ]
  },
  {
   "cell_type": "code",
   "execution_count": 73,
   "id": "02d247c0",
   "metadata": {},
   "outputs": [
    {
     "name": "stdout",
     "output_type": "stream",
     "text": [
      "Occurrences of the word 'exercises': 3\n",
      "Found 'exercises' at position 7-16\n",
      "Found 'exercises' at position 22-31\n",
      "Found 'exercises' at position 36-45\n"
     ]
    }
   ],
   "source": [
    "#Question 18- Write a Python program to find the occurrence and position of the substrings within a string.\n",
    "\n",
    "text = 'Python exercises, PHP exercises, C# exercises'\n",
    "pattern = 'exercises'\n",
    "\n",
    "matches = [(match.group(), match.start(), match.end()) for match in re.finditer(pattern, text)]\n",
    "\n",
    "print(\"Occurrences of the word 'exercises':\", len(matches))\n",
    "for match in matches:\n",
    "    print(\"Found '{}' at position {}-{}\".format(*match))"
   ]
  },
  {
   "cell_type": "code",
   "execution_count": 37,
   "id": "5aeac632",
   "metadata": {},
   "outputs": [
    {
     "name": "stdout",
     "output_type": "stream",
     "text": [
      "Old date  : 2026-01-02\n",
      "Updated date: 02-01-2026\n"
     ]
    }
   ],
   "source": [
    "#Question 19- Write a Python program to convert a date of yyyy-mm-dd format to dd-mm-yyyy format.\n",
    "def change_date_format(dt):\n",
    "        return re.sub(r'(\\d{4})-(\\d{1,2})-(\\d{1,2})', '\\\\3-\\\\2-\\\\1', dt)\n",
    "data = \"2026-01-02\"\n",
    "print(\"Old date  :\",data)\n",
    "print(\"Updated date:\",change_date_format(data))\n"
   ]
  },
  {
   "cell_type": "code",
   "execution_count": 5,
   "id": "0ea1af0c",
   "metadata": {},
   "outputs": [
    {
     "name": "stdout",
     "output_type": "stream",
     "text": [
      "['3.14', '2.2', '0.7']\n"
     ]
    }
   ],
   "source": [
    "#Question 20- Create a function in python to find all decimal numbers with a precision of 1 or 2 in a string.The use of the \n",
    "#re.compile() method is mandatory.\n",
    "\n",
    "string = \"The weights of vegetables are 3.14, 2.2, 45, and 0.7.\"\n",
    "pattern =  re.compile(r'\\b\\d+\\.\\d{1,2}\\b')\n",
    "matches = pattern.findall(string)\n",
    "print(matches)\n"
   ]
  },
  {
   "cell_type": "code",
   "execution_count": 78,
   "id": "f4029856",
   "metadata": {},
   "outputs": [
    {
     "name": "stdout",
     "output_type": "stream",
     "text": [
      "Number: 45, Index position: 13\n",
      "Number: 20, Index position: 40\n"
     ]
    }
   ],
   "source": [
    "#Question 21- Write a Python program to separate and print the numbers and their position of a given string.\n",
    "\n",
    "string = 'My weight is 45 kg and my son weight is 20 kg '\n",
    "\n",
    "matches = [(match.group(), match.start()) for match in re.finditer(r'\\d+', string)]\n",
    "\n",
    "for number, position in matches:\n",
    "    print(f\"Number: {number}, Index position: {position}\")\n",
    "\n"
   ]
  },
  {
   "cell_type": "code",
   "execution_count": 13,
   "id": "1e26860e",
   "metadata": {},
   "outputs": [
    {
     "name": "stdout",
     "output_type": "stream",
     "text": [
      "Maximum/Largest numeric value: 950\n"
     ]
    }
   ],
   "source": [
    "#Question 22- Write a regular expression in python program to extract maximum/largest numeric value from a string.\n",
    "#Sample Text: 'My marks in each semester are: 947, 896, 926, 524, 734, 950, 642'\n",
    "\n",
    "sample_text = 'My marks in each semester are: 947, 896, 926, 524, 734, 950, 642'\n",
    "\n",
    "values = [int(num) for num in re.findall(r'\\d+', sample_text)]\n",
    "Max_value = max(values)\n",
    "\n",
    "print(\"Maximum/Largest numeric value:\", Max_value)\n"
   ]
  },
  {
   "cell_type": "code",
   "execution_count": 17,
   "id": "90b66c99",
   "metadata": {},
   "outputs": [
    {
     "name": "stdout",
     "output_type": "stream",
     "text": [
      "Regular Expression Is An Important Topic In Python\n"
     ]
    }
   ],
   "source": [
    "#Question 23- Create a function in python to insert spaces between words starting with capital letters.\n",
    "#Sample Text: “RegularExpressionIsAnImportantTopicInPython\"\n",
    "\n",
    "import re\n",
    "def capital_letter(str1):\n",
    "  return re.sub(r\"(\\w)([A-Z])\", r\"\\1 \\2\", str1)\n",
    "\n",
    "print(capital_letter(\"RegularExpressionIsAnImportantTopicInPython\"))\n"
   ]
  },
  {
   "cell_type": "code",
   "execution_count": 18,
   "id": "82ce9896",
   "metadata": {},
   "outputs": [
    {
     "name": "stdout",
     "output_type": "stream",
     "text": [
      "['Regular', 'Expression', 'Is', 'An', 'Important', 'Topic', 'In', 'Python']\n"
     ]
    }
   ],
   "source": [
    "#Question 24-Python regex to find sequences of one upper case letter followed by lower case letter\n",
    "\n",
    "string = \"RegularExpressionIsAnImportantTopicInPython\"\n",
    "sequences = re.findall(r'[A-Z][a-z]+',string)\n",
    "print(sequences)\n"
   ]
  },
  {
   "cell_type": "code",
   "execution_count": 22,
   "id": "8b97d109",
   "metadata": {},
   "outputs": [
    {
     "name": "stdout",
     "output_type": "stream",
     "text": [
      "Hello hello world\n"
     ]
    }
   ],
   "source": [
    "#Question 25-Write a Python program to remove continuous duplicate words from Sentence using Regular Expression.\n",
    "#Sample Text:\"Hello hello world world\"\n",
    "sample_text= \"Hello hello world world\"\n",
    "result = re.sub(r'\\b(\\w+)( \\1\\b)+', r'\\1', sample_text)\n",
    "print(result)\n"
   ]
  },
  {
   "cell_type": "code",
   "execution_count": 81,
   "id": "4603d727",
   "metadata": {},
   "outputs": [
    {
     "name": "stdout",
     "output_type": "stream",
     "text": [
      "Given string ends with an alphanumeric character.\n"
     ]
    }
   ],
   "source": [
    "#Question 26- Write a python program using RegEx to accept string ending with alphanumeric character.\n",
    "import re\n",
    "input_string = \"Hello123\"\n",
    "pattern = r'^.*[a-zA-Z0-9]$'\n",
    "\n",
    "if re.match(pattern, input_string):\n",
    "    print(\"Given string ends with an alphanumeric character.\")\n",
    "else:\n",
    "    print(\"s Given tring does not end with an alphanumeric character.\")"
   ]
  },
  {
   "cell_type": "code",
   "execution_count": 82,
   "id": "6dbbf5e7",
   "metadata": {},
   "outputs": [
    {
     "name": "stdout",
     "output_type": "stream",
     "text": [
      "['#Doltiwal', '#xyzabc', '#Demonetization']\n"
     ]
    }
   ],
   "source": [
    "#Question 27-Write a python program using RegEx to extract the hashtags.\n",
    "#Sample Text: \"\"\"RT @kapil_kausik: #Doltiwal I mean #xyzabc is \"hurt\" by #Demonetization as the same has rendered USELESS \n",
    "#<ed><U+00A0><U+00BD><ed><U+00B1><U+0089> \"acquired funds\" No wo\"\"\"\n",
    "\n",
    "text = \"\"\"RT @kapil_kausik: #Doltiwal I mean #xyzabc is \"hurt\" by #Demonetization as the same has rendered USELESS <ed><U+00A0><U+00BD><ed><U+00B1><U+0089> \"acquired funds\" No wo\"\"\"\n",
    "\n",
    "hashtags = re.findall(r'#\\w+', text)\n",
    "\n",
    "print(hashtags)\n"
   ]
  },
  {
   "cell_type": "code",
   "execution_count": 45,
   "id": "5d99745f",
   "metadata": {},
   "outputs": [
    {
     "name": "stdout",
     "output_type": "stream",
     "text": [
      "@Jags123456 Bharat band on 28??<ed><ed>Those who  are protesting #demonetization  are all different party leaders\n"
     ]
    }
   ],
   "source": [
    "'''\n",
    "Question 28- Write a python program using RegEx to remove <U+..> like symbols\n",
    "Check the below sample text, there are strange symbols something of the sort <U+..> all over the place. You need to come up \n",
    "with a general Regex expression that will cover all such symbols.\n",
    "Sample Text: \"@Jags123456 Bharat band on 28??<ed><U+00A0><U+00BD><ed><U+00B8><U+0082>Those who  are protesting #demonetization  \n",
    "are all different party leaders\"\n",
    "'''\n",
    "import re\n",
    "text = \"@Jags123456 Bharat band on 28??<ed><U+00A0><U+00BD><ed><U+00B8><U+0082>Those who  are protesting #demonetization  are all different party leaders\"\n",
    "cleaned_text = re.sub(r'<U\\+\\w{4}>', '', text)\n",
    "\n",
    "print(cleaned_text)\n"
   ]
  },
  {
   "cell_type": "code",
   "execution_count": 85,
   "id": "84875371",
   "metadata": {},
   "outputs": [
    {
     "name": "stdout",
     "output_type": "stream",
     "text": [
      "Extracted dates:\n",
      "12-09-1992\n",
      "15-12-1999\n"
     ]
    }
   ],
   "source": [
    "#Question 29- Write a python program to extract dates from the text stored in the text file.\n",
    "#Sample Text:Ron was born on 12-09-1992 and he was admitted to school 15-12-1999.\n",
    "#Note-Store this sample text in the file and then extract dates.\n",
    "\n",
    "with open('date2.txt', 'r') as file:\n",
    "    text = file.read()\n",
    "pattern = r'\\b\\d{2}-\\d{2}-\\d{4}\\b'\n",
    "\n",
    "dates = re.findall(pattern, text)\n",
    "\n",
    "print(\"Extracted dates:\")\n",
    "for date in dates:\n",
    "    print(date)\n",
    "\n"
   ]
  },
  {
   "cell_type": "code",
   "execution_count": 48,
   "id": "1439e832",
   "metadata": {},
   "outputs": [
    {
     "name": "stdout",
     "output_type": "stream",
     "text": [
      " following example creates  ArrayList  a capacity   elements. 4 elements   added   ArrayList   ArrayList  trimmed accordingly.\n"
     ]
    }
   ],
   "source": [
    "'''\n",
    "Question 30-Create a function inpython to remove all words from a string of length between 2 and 4.\n",
    "The use of the re.compile() method is mandatory.\n",
    "Sample Text:\"The following example creates an ArrayList with a capacity of 50 elements. 4 elements are then added to the ArrayList and the ArrayList is trimmed accordingly.\"\n",
    "'''\n",
    "import re\n",
    "\n",
    "text = \"The following example creates an ArrayList with a capacity of 50 elements. 4 elements are then added to the ArrayList and the ArrayList is trimmed accordingly.\"\n",
    "\n",
    "pattern = re.compile(r'\\b\\w{2,4}\\b')\n",
    "\n",
    "result = pattern.sub('', text)\n",
    "\n",
    "print(result)"
   ]
  },
  {
   "cell_type": "code",
   "execution_count": null,
   "id": "e6457c54",
   "metadata": {},
   "outputs": [],
   "source": []
  }
 ],
 "metadata": {
  "kernelspec": {
   "display_name": "Python 3 (ipykernel)",
   "language": "python",
   "name": "python3"
  },
  "language_info": {
   "codemirror_mode": {
    "name": "ipython",
    "version": 3
   },
   "file_extension": ".py",
   "mimetype": "text/x-python",
   "name": "python",
   "nbconvert_exporter": "python",
   "pygments_lexer": "ipython3",
   "version": "3.9.13"
  }
 },
 "nbformat": 4,
 "nbformat_minor": 5
}
